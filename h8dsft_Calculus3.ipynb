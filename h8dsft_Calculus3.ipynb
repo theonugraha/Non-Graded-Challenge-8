{
 "cells": [
  {
   "attachments": {},
   "cell_type": "markdown",
   "metadata": {},
   "source": [
    "# NON GRADED CHALLENGE 8"
   ]
  },
  {
   "attachments": {},
   "cell_type": "markdown",
   "metadata": {},
   "source": [
    "## Carilah GRADIENT dari sebuah fungsi berikut : 3x + 4y = 5"
   ]
  },
  {
   "cell_type": "code",
   "execution_count": 27,
   "metadata": {},
   "outputs": [],
   "source": [
    "import numpy as np\n",
    "from numpy import array\n",
    "\n",
    "import sympy as sy\n",
    "from sympy import symbols\n",
    "\n",
    "import matplotlib.pyplot as plt"
   ]
  },
  {
   "attachments": {},
   "cell_type": "markdown",
   "metadata": {},
   "source": [
    "### Gradient sumbu X"
   ]
  },
  {
   "cell_type": "code",
   "execution_count": 22,
   "metadata": {},
   "outputs": [],
   "source": [
    "x,y = symbols('x y')"
   ]
  },
  {
   "cell_type": "code",
   "execution_count": 23,
   "metadata": {},
   "outputs": [],
   "source": [
    "# Mengisi sumbu x\n",
    "\n",
    "x = np.linspace(-10, 10)"
   ]
  },
  {
   "cell_type": "code",
   "execution_count": 24,
   "metadata": {},
   "outputs": [
    {
     "data": {
      "text/plain": [
       "array([ 8.75      ,  8.44387755,  8.1377551 ,  7.83163265,  7.5255102 ,\n",
       "        7.21938776,  6.91326531,  6.60714286,  6.30102041,  5.99489796,\n",
       "        5.68877551,  5.38265306,  5.07653061,  4.77040816,  4.46428571,\n",
       "        4.15816327,  3.85204082,  3.54591837,  3.23979592,  2.93367347,\n",
       "        2.62755102,  2.32142857,  2.01530612,  1.70918367,  1.40306122,\n",
       "        1.09693878,  0.79081633,  0.48469388,  0.17857143, -0.12755102,\n",
       "       -0.43367347, -0.73979592, -1.04591837, -1.35204082, -1.65816327,\n",
       "       -1.96428571, -2.27040816, -2.57653061, -2.88265306, -3.18877551,\n",
       "       -3.49489796, -3.80102041, -4.10714286, -4.41326531, -4.71938776,\n",
       "       -5.0255102 , -5.33163265, -5.6377551 , -5.94387755, -6.25      ])"
      ]
     },
     "execution_count": 24,
     "metadata": {},
     "output_type": "execute_result"
    }
   ],
   "source": [
    "# 3*x + 4*y = 5\n",
    "# y = 5/4 - 3/4*x\n",
    "y = 1.25 - 0.75 * x\n",
    "y"
   ]
  },
  {
   "cell_type": "code",
   "execution_count": 25,
   "metadata": {},
   "outputs": [
    {
     "data": {
      "text/plain": [
       "array([-0.30612245, -0.30612245, -0.30612245, -0.30612245, -0.30612245,\n",
       "       -0.30612245, -0.30612245, -0.30612245, -0.30612245, -0.30612245,\n",
       "       -0.30612245, -0.30612245, -0.30612245, -0.30612245, -0.30612245,\n",
       "       -0.30612245, -0.30612245, -0.30612245, -0.30612245, -0.30612245,\n",
       "       -0.30612245, -0.30612245, -0.30612245, -0.30612245, -0.30612245,\n",
       "       -0.30612245, -0.30612245, -0.30612245, -0.30612245, -0.30612245,\n",
       "       -0.30612245, -0.30612245, -0.30612245, -0.30612245, -0.30612245,\n",
       "       -0.30612245, -0.30612245, -0.30612245, -0.30612245, -0.30612245,\n",
       "       -0.30612245, -0.30612245, -0.30612245, -0.30612245, -0.30612245,\n",
       "       -0.30612245, -0.30612245, -0.30612245, -0.30612245, -0.30612245])"
      ]
     },
     "execution_count": 25,
     "metadata": {},
     "output_type": "execute_result"
    }
   ],
   "source": [
    "gradient_x = np.gradient(y)\n",
    "gradient_x"
   ]
  },
  {
   "attachments": {},
   "cell_type": "markdown",
   "metadata": {},
   "source": [
    "### Gradient sumbu Y"
   ]
  },
  {
   "cell_type": "code",
   "execution_count": 26,
   "metadata": {},
   "outputs": [],
   "source": [
    "x,y = symbols('x y')"
   ]
  },
  {
   "cell_type": "code",
   "execution_count": 28,
   "metadata": {},
   "outputs": [],
   "source": [
    "# Mengisi sumbu y\n",
    "\n",
    "y = np.linspace(-10, 10)"
   ]
  },
  {
   "cell_type": "code",
   "execution_count": 29,
   "metadata": {},
   "outputs": [
    {
     "data": {
      "text/plain": [
       "array([-11.66666667, -11.12244898, -10.57823129, -10.03401361,\n",
       "        -9.48979592,  -8.94557823,  -8.40136054,  -7.85714286,\n",
       "        -7.31292517,  -6.76870748,  -6.2244898 ,  -5.68027211,\n",
       "        -5.13605442,  -4.59183673,  -4.04761905,  -3.50340136,\n",
       "        -2.95918367,  -2.41496599,  -1.8707483 ,  -1.32653061,\n",
       "        -0.78231293,  -0.23809524,   0.30612245,   0.85034014,\n",
       "         1.39455782,   1.93877551,   2.4829932 ,   3.02721088,\n",
       "         3.57142857,   4.11564626,   4.65986395,   5.20408163,\n",
       "         5.74829932,   6.29251701,   6.83673469,   7.38095238,\n",
       "         7.92517007,   8.46938776,   9.01360544,   9.55782313,\n",
       "        10.10204082,  10.6462585 ,  11.19047619,  11.73469388,\n",
       "        12.27891156,  12.82312925,  13.36734694,  13.91156463,\n",
       "        14.45578231,  15.        ])"
      ]
     },
     "execution_count": 29,
     "metadata": {},
     "output_type": "execute_result"
    }
   ],
   "source": [
    "# 3*x + 4*y = 5\n",
    "x = (5/3) + (4/3)*y\n",
    "x"
   ]
  },
  {
   "cell_type": "code",
   "execution_count": 30,
   "metadata": {},
   "outputs": [
    {
     "data": {
      "text/plain": [
       "array([0.54421769, 0.54421769, 0.54421769, 0.54421769, 0.54421769,\n",
       "       0.54421769, 0.54421769, 0.54421769, 0.54421769, 0.54421769,\n",
       "       0.54421769, 0.54421769, 0.54421769, 0.54421769, 0.54421769,\n",
       "       0.54421769, 0.54421769, 0.54421769, 0.54421769, 0.54421769,\n",
       "       0.54421769, 0.54421769, 0.54421769, 0.54421769, 0.54421769,\n",
       "       0.54421769, 0.54421769, 0.54421769, 0.54421769, 0.54421769,\n",
       "       0.54421769, 0.54421769, 0.54421769, 0.54421769, 0.54421769,\n",
       "       0.54421769, 0.54421769, 0.54421769, 0.54421769, 0.54421769,\n",
       "       0.54421769, 0.54421769, 0.54421769, 0.54421769, 0.54421769,\n",
       "       0.54421769, 0.54421769, 0.54421769, 0.54421769, 0.54421769])"
      ]
     },
     "execution_count": 30,
     "metadata": {},
     "output_type": "execute_result"
    }
   ],
   "source": [
    "gradient_y = np.gradient(x)\n",
    "gradient_y"
   ]
  }
 ],
 "metadata": {
  "kernelspec": {
   "display_name": "Python 3",
   "language": "python",
   "name": "python3"
  },
  "language_info": {
   "codemirror_mode": {
    "name": "ipython",
    "version": 3
   },
   "file_extension": ".py",
   "mimetype": "text/x-python",
   "name": "python",
   "nbconvert_exporter": "python",
   "pygments_lexer": "ipython3",
   "version": "3.10.10"
  },
  "orig_nbformat": 4
 },
 "nbformat": 4,
 "nbformat_minor": 2
}
